{
  "metadata": {
    "kernelspec": {
      "name": "ir",
      "display_name": "R",
      "language": "R"
    },
    "language_info": {
      "name": "R",
      "codemirror_mode": "r",
      "pygments_lexer": "r",
      "mimetype": "text/x-r-source",
      "file_extension": ".r",
      "version": "4.4.0"
    },
    "kaggle": {
      "accelerator": "none",
      "dataSources": [
        {
          "sourceId": 7746251,
          "sourceType": "datasetVersion",
          "datasetId": 1041311
        }
      ],
      "dockerImageVersionId": 30749,
      "isInternetEnabled": false,
      "language": "r",
      "sourceType": "notebook",
      "isGpuEnabled": false
    },
    "colab": {
      "name": "Bellabeat data analysis case study",
      "provenance": [],
      "include_colab_link": true
    }
  },
  "nbformat_minor": 0,
  "nbformat": 4,
  "cells": [
    {
      "cell_type": "markdown",
      "metadata": {
        "id": "view-in-github",
        "colab_type": "text"
      },
      "source": [
        "<a href=\"https://colab.research.google.com/github/IndySong/DAT3/blob/master/Bellabeat_data_analysis_case_study.ipynb\" target=\"_parent\"><img src=\"https://colab.research.google.com/assets/colab-badge.svg\" alt=\"Open In Colab\"/></a>"
      ]
    },
    {
      "source": [
        "\n",
        "# IMPORTANT: RUN THIS CELL IN ORDER TO IMPORT YOUR KAGGLE DATA SOURCES\n",
        "# TO THE CORRECT LOCATION (/kaggle/input) IN YOUR NOTEBOOK,\n",
        "# THEN FEEL FREE TO DELETE THIS CELL.\n",
        "# NOTE: THIS NOTEBOOK ENVIRONMENT DIFFERS FROM KAGGLE'S R\n",
        "# ENVIRONMENT SO THERE MAY BE MISSING LIBRARIES USED BY YOUR\n",
        "# NOTEBOOK.\n",
        "\n",
        "DATA_SOURCE_MAPPING = 'fitbit:https%3A%2F%2Fstorage.googleapis.com%2Fkaggle-data-sets%2F1041311%2F7746251%2Fbundle%2Farchive.zip%3FX-Goog-Algorithm%3DGOOG4-RSA-SHA256%26X-Goog-Credential%3Dgcp-kaggle-com%2540kaggle-161607.iam.gserviceaccount.com%252F20250610%252Fauto%252Fstorage%252Fgoog4_request%26X-Goog-Date%3D20250610T234728Z%26X-Goog-Expires%3D259200%26X-Goog-SignedHeaders%3Dhost%26X-Goog-Signature%3D4ef0b8a1b7eba7fbe159da8a663781e714c3b265f72f4eb1967049ebb5d6e2fd1703c94af0a5f39ed940a09b07958930e158abf2c482d1f717f5b69161ad1707b01542e75c7d333767131ef8b5624283717f6ea595ac020c9ecf9f92faddeed45ecfd5d907f848bb592d2663bfc147f70a8442a3d24f1e85bd541cb29e788f4c5fdc14010f2f7d62d10f3990764985ddf114e2c84f82bb023faab7f7900827208ad435dcd632897f261b81a788fc6b8144084971a32286674e9719eaa471a0babfefb2f8cfcffbac7d77b55b7d17c0e78777dd3ee05f49d8a35ebafce6637d899c51311a1b7f0821f509a6f3f6773c7215c655ef017484d7abfb76426eccc619'\n",
        "\n",
        "KAGGLE_INPUT_PATH = '/kaggle/input'\n",
        "KAGGLE_WORKING_PATH = '/kaggle/working'\n",
        "\n",
        "system(paste0('sudo umount ', '/kaggle/input'))\n",
        "system(paste0('sudo rmdir ', '/kaggle/input'))\n",
        "system(paste0('sudo mkdir -p -- ', KAGGLE_INPUT_PATH), intern=TRUE)\n",
        "system(paste0('sudo chmod 777 ', KAGGLE_INPUT_PATH), intern=TRUE)\n",
        "system(\n",
        "  paste0('sudo ln -sfn ', KAGGLE_INPUT_PATH,' ',file.path('..', 'input')),\n",
        "  intern=TRUE)\n",
        "\n",
        "system(paste0('sudo mkdir -p -- ', KAGGLE_WORKING_PATH), intern=TRUE)\n",
        "system(paste0('sudo chmod 777 ', KAGGLE_WORKING_PATH), intern=TRUE)\n",
        "system(\n",
        "  paste0('sudo ln -sfn ', KAGGLE_WORKING_PATH, ' ', file.path('..', 'working')),\n",
        "  intern=TRUE)\n",
        "\n",
        "data_source_mappings = strsplit(DATA_SOURCE_MAPPING, ',')[[1]]\n",
        "for (data_source_mapping in data_source_mappings) {\n",
        "    path_and_url = strsplit(data_source_mapping, ':')\n",
        "    directory = path_and_url[[1]][1]\n",
        "    download_url = URLdecode(path_and_url[[1]][2])\n",
        "    filename = sub(\"\\\\?.+\", \"\", download_url)\n",
        "    destination_path = file.path(KAGGLE_INPUT_PATH, directory)\n",
        "    print(paste0('Downloading and uncompressing: ', directory))\n",
        "    if (endsWith(filename, '.zip')){\n",
        "      temp = tempfile(fileext = '.zip')\n",
        "      download.file(download_url, temp)\n",
        "      unzip(temp, overwrite = TRUE, exdir = destination_path)\n",
        "      unlink(temp)\n",
        "    }\n",
        "    else{\n",
        "      temp = tempfile(fileext = '.tar')\n",
        "      download.file(download_url, temp)\n",
        "      untar(temp, exdir = destination_path)\n",
        "      unlink(temp)\n",
        "    }\n",
        "    print(paste0('Downloaded and uncompressed: ', directory))\n",
        "}\n",
        "\n",
        "print(paste0('Data source import complete'))\n"
      ],
      "metadata": {
        "id": "NhepSzdNPeh4"
      },
      "cell_type": "code",
      "outputs": [],
      "execution_count": null
    },
    {
      "cell_type": "markdown",
      "source": [
        "# Exploratory Data analysis using R programming\n",
        "\n",
        "\n"
      ],
      "metadata": {
        "id": "sV8FHG3lPeh9"
      }
    },
    {
      "cell_type": "markdown",
      "source": [
        "### Introduction\n",
        "\n",
        "Bellabeat is a high-tech wellness company that designs smart products to empower women with mindful health insights. In this case study, I dive into various datasets - ranging from daily activity logs to sleep records - to explore user behavior, uncover trends, and derive actionable insights that can drive targeted marketing efforts and product enhancements."
      ],
      "metadata": {
        "id": "fq77xPpCPeh_"
      }
    },
    {
      "cell_type": "markdown",
      "source": [
        "**This analysis followed the five steps of the Data analysis process:**\n",
        "\n",
        "1. *Ask*: Define the problem and research questions.\n",
        "2. *Prepare*: Aggregate and transform multiple datasets.\n",
        "3. *Process*: Clean and merge data to ensure robust analysis.\n",
        "4. *Analyze*: Explore trends and generate visual insights.\n",
        "5. *Share*: Present findings.\n",
        "6. *Act*: Take recommended steps"
      ],
      "metadata": {
        "id": "O-tBXIB2Peh_"
      }
    },
    {
      "cell_type": "markdown",
      "source": [
        "**Their product includes**\n",
        "\n",
        "**Leaf**: A wearable wellness tracker (clip, bracelet, or necklace)\n",
        "\n",
        "**Time**: A stylish wellness watch\n",
        "\n",
        "**Spring**: A smart water bottle\n",
        "\n",
        "**Bellabeat App**: Tracks activity, stress, sleep, menstrual cycles, and more\n",
        "\n",
        "**Bellabeat Membership**: Personalized coaching and wellness content\n",
        "\n",
        "Bellabeat aims to expand globally by using smart device data to better understand user behavior and improve its marketing strategy."
      ],
      "metadata": {
        "id": "hJPW8892Peh_"
      }
    },
    {
      "cell_type": "markdown",
      "source": [
        "## ASK\n",
        "\n",
        "This project is happening because Bellabeat, a successful small company in the health-focused smart device market, aims to become a larger global player. Urška Sršen, the cofounder and Chief Creative Officer, believes that analyzing smart device data can reveal untapped growth opportunities for the company.\n",
        "\n",
        "#### The key stakeholders are:\n",
        "\n",
        "**Urška Sršen (Cofounder & Chief Creative Officer)**: She initiated the project and is interested in high-level recommendations for marketing strategy and growth.\n",
        "\n",
        "**Sando Mur (Mathematician and Bellabeat’s cofounder)**: key member of the Bellabeat executive team.\n",
        "\n",
        "\n",
        "**The goals are:**\n",
        "\n",
        "1. Analyze trends in smart device usage:\n",
        "\n",
        "2. Identify common patterns and behaviors in how consumers utilize smart devices.\n",
        "\n",
        "3. Apply these trends to Bellabeat customers:\n",
        "\n",
        "4. Understand how these broader trends might relate to Bellabeat's existing customer base and their needs.\n",
        "\n",
        "5. Influence Bellabeat marketing strategy:\n",
        "\n",
        "6. Develop actionable recommendations based on the analysis to improve Bellabeat's  marketing approach.\n"
      ],
      "metadata": {
        "id": "XjeTQ1dsPeh_"
      }
    },
    {
      "cell_type": "markdown",
      "source": [
        "**Data Issues & Limitations Missing Demographics**: Gender, age, and health conditions (e.g., asthma, diabetes) are missing. Lifestyle Information Lacking: No visibility into work habits, calorie consumption, or daily routines."
      ],
      "metadata": {
        "id": "Jur1QPE6PeiA"
      }
    },
    {
      "cell_type": "markdown",
      "source": [
        "\n",
        "\n",
        "\n",
        "\n",
        "# Prepare"
      ],
      "metadata": {
        "id": "pD3VF-cOPeiB"
      }
    },
    {
      "cell_type": "markdown",
      "source": [
        "**Dataset Used**\n",
        "\n",
        "The data used in this case study is available here\n",
        "\n",
        "[Fitbit data on Kaggle](http:///kaggle/input/fitbit)"
      ],
      "metadata": {
        "id": "USdigYSYPeiB"
      }
    },
    {
      "cell_type": "markdown",
      "source": [
        "**ROCC Analysis**\n",
        "\n",
        "**RELIABILITY** (LOW):\n",
        "Third-party collected, not verified official Fitbit data.\n",
        "\n",
        "**Originality** (LOW):\n",
        "Secondary dataset, not collected firsthand.\n",
        "\n",
        "**Comprehensiveness** (MEDIUM) :\n",
        "Activity, sleep, calories covered, but lacks demographics.\n",
        "\n",
        "**Currentness** (LOW):\n",
        "Collected in 2016.\n",
        "\n",
        "**Cited** (LOW):\n",
        "Uploaded by a user, not certified."
      ],
      "metadata": {
        "id": "mjnLLmvHPeiB"
      }
    },
    {
      "cell_type": "markdown",
      "source": [
        "#### Setting up environment"
      ],
      "metadata": {
        "id": "cQP4xQVdPeiC"
      }
    },
    {
      "cell_type": "code",
      "source": [
        "#importing datasets\n",
        "\n",
        "activityData <- read.csv(\"/kaggle/input/fitbit/mturkfitbit_export_4.12.16-5.12.16/Fitabase Data 4.12.16-5.12.16/dailyActivity_merged.csv\")\n",
        "sleepData <- read.csv(\"/kaggle/input/fitbit/mturkfitbit_export_4.12.16-5.12.16/Fitabase Data 4.12.16-5.12.16/sleepDay_merged.csv\")\n",
        "weightLog <- read.csv(\"/kaggle/input/fitbit/mturkfitbit_export_4.12.16-5.12.16/Fitabase Data 4.12.16-5.12.16/weightLogInfo_merged.csv\")\n",
        "hourlySteps <- read.csv(\"/kaggle/input/fitbit/mturkfitbit_export_4.12.16-5.12.16/Fitabase Data 4.12.16-5.12.16/hourlySteps_merged.csv\")\n",
        "hourlyCalories <- read.csv(\"/kaggle/input/fitbit/mturkfitbit_export_4.12.16-5.12.16/Fitabase Data 4.12.16-5.12.16/hourlyCalories_merged.csv\")"
      ],
      "metadata": {
        "trusted": true,
        "execution": {
          "iopub.status.busy": "2025-06-10T13:35:13.30444Z",
          "iopub.execute_input": "2025-06-10T13:35:13.306264Z",
          "iopub.status.idle": "2025-06-10T13:35:13.445284Z",
          "shell.execute_reply": "2025-06-10T13:35:13.442954Z"
        },
        "id": "1oZ3I_SOPeiC"
      },
      "outputs": [],
      "execution_count": null
    },
    {
      "cell_type": "code",
      "source": [
        "#Loading packages\n",
        "\n",
        "library(tidyverse)\n",
        "library(dplyr)\n",
        "library(ggplot2)\n",
        "library(lubridate)\n",
        "library(tidyr)\n",
        "library(janitor)\n",
        "library(naniar)\n",
        "library(gtExtras)"
      ],
      "metadata": {
        "trusted": true,
        "execution": {
          "iopub.status.busy": "2025-06-10T14:16:53.491069Z",
          "iopub.execute_input": "2025-06-10T14:16:53.492803Z",
          "iopub.status.idle": "2025-06-10T14:16:53.521756Z",
          "shell.execute_reply": "2025-06-10T14:16:53.519672Z"
        },
        "id": "f5WRkVs6PeiC"
      },
      "outputs": [],
      "execution_count": null
    },
    {
      "cell_type": "code",
      "source": [
        "# View structure and summarize\n",
        "\n",
        "head(activityData)\n",
        "head(sleepData)\n",
        "head(weightLog)\n",
        "head(hourlySteps)\n",
        "head(hourlyCalories)\n",
        "\n",
        "str(activityData)\n",
        "str(sleepData)\n",
        "str(weightLog)\n",
        "str(hourlySteps)\n",
        "str(hourlyCalories)\n",
        "\n",
        "\n",
        "summary(activityData)\n",
        "summary(sleepData)\n",
        "summary(weightLog)"
      ],
      "metadata": {
        "trusted": true,
        "execution": {
          "iopub.status.busy": "2025-06-10T13:39:07.048449Z",
          "iopub.execute_input": "2025-06-10T13:39:07.050415Z",
          "iopub.status.idle": "2025-06-10T13:39:07.237941Z",
          "shell.execute_reply": "2025-06-10T13:39:07.235563Z"
        },
        "id": "VWIXaYJNPeiC"
      },
      "outputs": [],
      "execution_count": null
    },
    {
      "cell_type": "markdown",
      "source": [
        "* Loaded datasets into RStudio.\n",
        "\n",
        "* Converted all date and time columns into proper POSIXct format.\n",
        "\n",
        "* Removed duplicate records across datasets.\n",
        "\n",
        "* Summarized key variables: total steps, active minutes, calories burned, sleep minutes.\n",
        "\n",
        "* Merged datasets (where necessary) on Id and date.\n",
        "\n",
        "* Prepared the final clean datasets for exploratory analysis."
      ],
      "metadata": {
        "id": "1ORaEa7QPeiC"
      }
    },
    {
      "cell_type": "markdown",
      "source": [
        "# Process\n",
        "### Data cleaning\n",
        "\n",
        "* Renamed columns.\n",
        "\n",
        "* Converted all date and time columns into proper POSIXct format.\n",
        "\n",
        "* Removed duplicate records across datasets.\n",
        "\n",
        "* Summarized key variables: total steps, active minutes, calories burned, sleep minutes.\n"
      ],
      "metadata": {
        "id": "_B3FmgXWPeiD"
      }
    },
    {
      "cell_type": "code",
      "source": [
        "# renaming date columns\n",
        "\n",
        "activityData <- activityData %>%\n",
        "  rename(Date = ActivityDate)\n",
        "\n",
        "sleepData <- sleepData %>%\n",
        "  rename(Date = SleepDay)\n",
        "\n",
        "hourlySteps <- hourlySteps %>%\n",
        "  rename(ActivityDayTime = ActivityHour)\n",
        "\n",
        "hourlyCalories <- hourlyCalories %>%\n",
        "  rename(ActivityDayTime = ActivityHour)\n"
      ],
      "metadata": {
        "trusted": true,
        "execution": {
          "iopub.status.busy": "2025-06-10T13:56:06.893122Z",
          "iopub.execute_input": "2025-06-10T13:56:06.89487Z",
          "iopub.status.idle": "2025-06-10T13:56:06.927003Z",
          "shell.execute_reply": "2025-06-10T13:56:06.925184Z"
        },
        "id": "JG-WoJC4PeiD"
      },
      "outputs": [],
      "execution_count": null
    },
    {
      "cell_type": "code",
      "source": [
        "## converting date time format\n",
        "\n",
        "activityData$Date <- as.POSIXct(activityData$Date, format =\"%m/%d/%Y\")\n",
        "\n",
        "\n",
        "sleepData$Date <- as.POSIXct(sleepData$Date, format =\"%m/%d/%Y %I:%M:%S %p\")\n",
        "\n",
        "weightLog$Date <- as.POSIXct(weightLog$Date, format = \"%m/%d/%Y %I:%M:%S %p\", tz= Sys.timezone())\n",
        "\n",
        "hourlyCalories$ActivityDayTime <- as.POSIXct(hourlyCalories$ActivityDayTime,\n",
        "                                             format = \"%m/%d/%Y %I:%M:%S %p\", tz= Sys.timezone())\n",
        "\n",
        "hourlySteps$ActivityDayTime = as.POSIXct(hourlySteps$ActivityDayTime,\n",
        "                                         format = \"%m/%d/%Y %I:%M:%S %p\", tz= Sys.timezone())\n",
        "\n",
        "str(sleepData$Date)\n",
        "str(weightLog$Date)\n",
        "str(hourlyCalories$ActivityDayTime)\n",
        "str(hourlySteps$ActivityDayTime)"
      ],
      "metadata": {
        "trusted": true,
        "execution": {
          "iopub.status.busy": "2025-06-10T13:57:21.72871Z",
          "iopub.execute_input": "2025-06-10T13:57:21.731459Z",
          "iopub.status.idle": "2025-06-10T13:57:21.846544Z",
          "shell.execute_reply": "2025-06-10T13:57:21.844164Z"
        },
        "id": "zruufDhPPeiD"
      },
      "outputs": [],
      "execution_count": null
    },
    {
      "cell_type": "code",
      "source": [
        "# seperate weightlog date column into date and time\n",
        "\n",
        "weightLog <- weightLog %>%\n",
        "  separate(Date, into = c(\"Date\",\" Time\"), sep = \" \")\n",
        "\n",
        "head(weightLog)"
      ],
      "metadata": {
        "trusted": true,
        "execution": {
          "iopub.status.busy": "2025-06-10T13:58:22.443971Z",
          "iopub.execute_input": "2025-06-10T13:58:22.445927Z",
          "iopub.status.idle": "2025-06-10T13:58:22.488639Z",
          "shell.execute_reply": "2025-06-10T13:58:22.485715Z"
        },
        "id": "ipka8Op-PeiD"
      },
      "outputs": [],
      "execution_count": null
    },
    {
      "cell_type": "markdown",
      "source": [
        "#### Checking for duplicates"
      ],
      "metadata": {
        "id": "snAT-1B1PeiD"
      }
    },
    {
      "cell_type": "code",
      "source": [
        "sum(duplicated(activityData))\n",
        "sum(duplicated(sleepData))\n",
        "sum(duplicated(weightLog))\n",
        "sum(duplicated(hourlyCalories))\n",
        "sum(duplicated(hourlySteps))"
      ],
      "metadata": {
        "trusted": true,
        "execution": {
          "iopub.status.busy": "2025-06-10T13:59:47.143646Z",
          "iopub.execute_input": "2025-06-10T13:59:47.145286Z",
          "iopub.status.idle": "2025-06-10T13:59:47.648323Z",
          "shell.execute_reply": "2025-06-10T13:59:47.646291Z"
        },
        "id": "Su2VCVsuPeiD"
      },
      "outputs": [],
      "execution_count": null
    },
    {
      "cell_type": "markdown",
      "source": [
        "The sleepData dataset has 3 duplicates, so i got rid of those"
      ],
      "metadata": {
        "id": "Lw_ki5vpPeiD"
      }
    },
    {
      "cell_type": "code",
      "source": [
        "# deleting duplicates\n",
        "\n",
        "sleepData <- sleepData[!duplicated(sleepData), ]\n",
        "\n",
        "# checking to confirm if duplicates have been deleted\n",
        "\n",
        "sum(duplicated(sleepData))"
      ],
      "metadata": {
        "trusted": true,
        "execution": {
          "iopub.status.busy": "2025-06-10T14:01:34.047854Z",
          "iopub.execute_input": "2025-06-10T14:01:34.049773Z",
          "iopub.status.idle": "2025-06-10T14:01:34.079183Z",
          "shell.execute_reply": "2025-06-10T14:01:34.077173Z"
        },
        "id": "aTrdjLDQPeiD"
      },
      "outputs": [],
      "execution_count": null
    },
    {
      "cell_type": "markdown",
      "source": [
        "#### Checking for NA values"
      ],
      "metadata": {
        "id": "hJqG6DckPeiD"
      }
    },
    {
      "cell_type": "code",
      "source": [
        "table(is.na(activityData))\n",
        "table(is.na(sleepData))\n",
        "table(is.na(weightLog))\n",
        "table(is.na(hourlyCalories))\n",
        "table(is.na(hourlySteps))\n",
        "\n",
        "\n",
        "miss_var_summary(weightLog)\n",
        "\n",
        "\n",
        "## Weightlog data has 97% of the Fat column missing,best to analyze without that column\n",
        "\n",
        "\n",
        "weightLog_ <- weightLog %>%\n",
        "  select(-Fat)\n",
        "\n",
        "\n",
        "head(weightLog_)"
      ],
      "metadata": {
        "trusted": true,
        "execution": {
          "iopub.status.busy": "2025-06-10T14:02:59.247964Z",
          "iopub.execute_input": "2025-06-10T14:02:59.249789Z",
          "iopub.status.idle": "2025-06-10T14:02:59.627229Z",
          "shell.execute_reply": "2025-06-10T14:02:59.62525Z"
        },
        "id": "RtSbp2O2PeiD"
      },
      "outputs": [],
      "execution_count": null
    },
    {
      "cell_type": "markdown",
      "source": [
        "## Merging Datasets\n",
        "\n",
        "* Merged datasets (where necessary) on Id and date.\n",
        "\n",
        "* Prepared the final clean datasets for exploratory analysis."
      ],
      "metadata": {
        "id": "XQvVi5scPeiE"
      }
    },
    {
      "cell_type": "code",
      "source": [
        "## activityData and SleepData merging\n",
        "\n",
        "activitysleep <- merge(activityData, sleepData, by = c(\"Id\", \"Date\"), all = FALSE)\n",
        "activitysleep$TotalActiveMinutes <- with(activitysleep,\n",
        "                                         VeryActiveMinutes + FairlyActiveMinutes + LightlyActiveMinutes)\n",
        "\n",
        "\n",
        "## ActivityData and weightLog merging and manipulations\n",
        "\n",
        "activity_weight <- merge(activityData  , weightLog_, by = c(\"Id\", \"Date\"), all = FALSE)\n",
        "\n",
        "averageSteps <- activity_weight %>%\n",
        "  group_by(Id) %>%\n",
        "  summarise(average_steps= mean(TotalSteps), average_distance = mean(TotalDistance)) %>%\n",
        "  arrange(-average_distance)\n",
        "\n",
        "firstRecordedBMI <- activity_weight %>%\n",
        "  group_by(Id) %>%\n",
        "  slice_min(Date) %>%\n",
        "  select(Id, BMI) %>%\n",
        "  ungroup()\n",
        "\n",
        "firstRecordedBMI <- firstRecordedBMI %>%\n",
        "  mutate(weight_class = case_when(\n",
        "    BMI < 18.5 ~ \"underweight\",\n",
        "    BMI >= 18.5 & BMI < 25 ~\"normalWeight\",\n",
        "    BMI >= 25 & BMI < 30 ~ \"overWeight\",\n",
        "    BMI >= 30 & BMI ~ \"obesity\",\n",
        "    TRUE ~ NA_character_\n",
        "  ))\n",
        "\n",
        "\n",
        "bmi_steps <- merge(firstRecordedBMI, averageSteps, by = \"Id\", all = FALSE)\n",
        "\n",
        "\n",
        "## hourlySteps and hourlyCalory merging and manipulations\n",
        "\n",
        "calorieSteps <- merge(hourlyCalories,hourlySteps, by = c(\"Id\",\"ActivityDayTime\"), all = FALSE)\n",
        "\n",
        "calorieSteps <- calorieSteps %>%\n",
        "  mutate(hour = hour(ActivityDayTime),\n",
        "         wday = wday(ActivityDayTime, label = TRUE),\n",
        "         weekend = ifelse(wday %in% c(\"Sat\", \"Sun\"), \"Weekend\", \"Weekday\"))\n",
        "\n",
        "hourly_activity_summary <- calorieSteps %>%\n",
        "  group_by(hour, wday, weekend) %>%\n",
        "  summarise(avg_steps = mean(StepTotal, na.rm = TRUE),\n",
        "            avg_calories = mean(Calories, na.rm = TRUE))\n",
        "\n",
        "\n",
        "avgstepsByHour <- hourly_activity_summary %>%\n",
        "  arrange(avg_steps) %>%\n",
        "  group_by(hour) %>%\n",
        "  summarise(sum(avg_steps))\n",
        "\n",
        "\n",
        "avgstepsByDay <- hourly_activity_summary %>%\n",
        "  arrange(avg_steps) %>%\n",
        "  group_by(wday) %>%\n",
        "  summarise(sum(avg_steps))\n",
        "\n",
        "\n",
        "averageSteps <- activity_weight %>%\n",
        "  group_by(Id) %>%\n",
        "  summarise(average_steps= mean(TotalSteps), average_distance = mean(TotalDistance)) %>%\n",
        "  arrange(-average_distance)"
      ],
      "metadata": {
        "trusted": true,
        "execution": {
          "iopub.status.busy": "2025-06-10T14:06:12.654338Z",
          "iopub.execute_input": "2025-06-10T14:06:12.656398Z",
          "iopub.status.idle": "2025-06-10T14:06:13.227542Z",
          "shell.execute_reply": "2025-06-10T14:06:13.22549Z"
        },
        "id": "Q9XuGH9mPeiE"
      },
      "outputs": [],
      "execution_count": null
    },
    {
      "cell_type": "markdown",
      "source": [
        "## Analyze and Share\n",
        "\n",
        "#### Data Visualization and key insights\n"
      ],
      "metadata": {
        "id": "WDzCWCY7PeiE"
      }
    },
    {
      "cell_type": "code",
      "source": [
        "ggplot(activityData, aes(x = TotalSteps, y = Calories)) + ## Steps vs. Calories Scatterplot\n",
        "geom_smooth() +\n",
        "geom_point(mapping = aes(color = TotalDistance)) +\n",
        "labs(title = \"Relationship Between Steps and Calories Burned\", x = \"Total Steps\", y = \"Calories Burned\",\n",
        "      caption = \"Color indicates total distance\") +\n",
        "theme_minimal() +\n",
        "theme(legend.position = \"bottom\",\n",
        "    legend.key.width = unit(1, \"cm\")) +\n",
        "scale_color_continuous(name = \"Total Distance (Km)\")"
      ],
      "metadata": {
        "trusted": true,
        "execution": {
          "iopub.status.busy": "2025-06-10T14:09:02.95295Z",
          "iopub.execute_input": "2025-06-10T14:09:02.954959Z",
          "iopub.status.idle": "2025-06-10T14:09:05.47165Z",
          "shell.execute_reply": "2025-06-10T14:09:05.469158Z"
        },
        "id": "r5ZTugruPeiE"
      },
      "outputs": [],
      "execution_count": null
    },
    {
      "cell_type": "markdown",
      "source": [
        "\"Relationship Between Steps and Calories Burned\" shows a positive correlation. As step count increases, there's a general upward trend in calories burned, though the relationship seems to plateau around 30,000 steps (mostly due to the lack of data in that area). The color gradient indicates total distance in kilometers, with lighter blue points representing greater distances."
      ],
      "metadata": {
        "id": "J1U-KO_1PeiE"
      }
    },
    {
      "cell_type": "code",
      "source": [
        "ggplot(activitysleep, aes(x = TotalActiveMinutes, y = TotalMinutesAsleep/60)) + ## Activity Level vs. Sleep Correlation\n",
        "  geom_point(aes(color = VeryActiveMinutes)) +\n",
        "  geom_smooth(method = \"lm\", se = TRUE, color = \"blue\") +\n",
        "  scale_color_viridis_c() +\n",
        "  labs(title = \"Relationship Between Activity and Sleep\",\n",
        "       caption = \"Color indicates minutes of intense activity\",\n",
        "       x = \"Total Active Minutes\",\n",
        "       y = \"Hours of Sleep\") +\n",
        "  theme_minimal() +\n",
        "  theme(legend.position = \"bottom\",\n",
        "        legend.key.width = unit(1, \"cm\"))"
      ],
      "metadata": {
        "trusted": true,
        "execution": {
          "iopub.status.busy": "2025-06-10T14:11:17.03591Z",
          "iopub.execute_input": "2025-06-10T14:11:17.037606Z",
          "iopub.status.idle": "2025-06-10T14:11:17.75845Z",
          "shell.execute_reply": "2025-06-10T14:11:17.756187Z"
        },
        "id": "1cGcLbswPeiE"
      },
      "outputs": [],
      "execution_count": null
    },
    {
      "cell_type": "markdown",
      "source": [
        "Relationship Between Daily Steps and Sleep Duration\" shows a slight negative correlation - as daily steps increase, there appears to be a subtle decrease in sleep duration. The color coding indicates calories burned, with purple points representing lower calorie expenditure. The trend line shows sleep duration decreasing slightly as steps increase, but the wide scatter suggests the relationship isn't particularly strong."
      ],
      "metadata": {
        "id": "FyKfqETJPeiF"
      }
    },
    {
      "cell_type": "code",
      "source": [
        "bmi_steps %>%\n",
        "  group_by(weight_class) %>%\n",
        "  summarise(average_steps = mean(average_steps)) %>%\n",
        "  ggplot(aes(x = weight_class, y = average_steps, fill = weight_class)) +\n",
        "  geom_col() +\n",
        "  labs(\n",
        "    x = \"Weight Class\",\n",
        "    y = \"Average Steps\",\n",
        "    title = \"Average Steps by Weight Class\"\n",
        "  ) +\n",
        "  theme_minimal() +\n",
        "  theme(\n",
        "    plot.title = element_text(hjust = 0.5),\n",
        "    legend.position = \"none\"\n",
        "  )"
      ],
      "metadata": {
        "trusted": true,
        "execution": {
          "iopub.status.busy": "2025-06-10T14:12:32.145586Z",
          "iopub.execute_input": "2025-06-10T14:12:32.147345Z",
          "iopub.status.idle": "2025-06-10T14:12:32.409222Z",
          "shell.execute_reply": "2025-06-10T14:12:32.407219Z"
        },
        "id": "yudlld7qPeiF"
      },
      "outputs": [],
      "execution_count": null
    },
    {
      "cell_type": "markdown",
      "source": [
        "People with a higher BMI tend to have a lower average number of steps than people with a lower BMI. However, the sample of 11 IDs is too small to be representative . Further analyses would have to be carried out with other data sets."
      ],
      "metadata": {
        "id": "VS3yhXUxPeiF"
      }
    },
    {
      "cell_type": "code",
      "source": [
        "## Average calories per hour / weekday /weekday\n",
        "\n",
        "ggplot(hourly_activity_summary, aes(x = hour, y = avg_steps, color =\n",
        "                                      weekend)) +\n",
        "  geom_line() +\n",
        "  facet_wrap(~wday) +\n",
        "  labs(title = \"average steps per hour by\n",
        "weekday/weekend\",\n",
        "       x = \"hour of the day\",\n",
        "       y = \"average steps\",\n",
        "       color = \"Legend\") +\n",
        "  theme_minimal()"
      ],
      "metadata": {
        "trusted": true,
        "execution": {
          "iopub.status.busy": "2025-06-10T14:13:39.559813Z",
          "iopub.execute_input": "2025-06-10T14:13:39.561524Z",
          "iopub.status.idle": "2025-06-10T14:13:40.383645Z",
          "shell.execute_reply": "2025-06-10T14:13:40.380602Z"
        },
        "id": "BbeTF28LPeiF"
      },
      "outputs": [],
      "execution_count": null
    },
    {
      "cell_type": "code",
      "source": [
        "## average steps per hour\n",
        "\n",
        "ggplot(avgstepsByHour, aes(x = hour, y = `sum(avg_steps)`)) +\n",
        "  geom_point() +\n",
        "  geom_line(group = 1) +\n",
        "  labs(x = \"Hour\", y = \"Average Steps\", title = \"Average Steps by Hour\") +\n",
        "  theme_minimal()"
      ],
      "metadata": {
        "trusted": true,
        "execution": {
          "iopub.status.busy": "2025-06-10T14:14:28.569089Z",
          "iopub.execute_input": "2025-06-10T14:14:28.570926Z",
          "iopub.status.idle": "2025-06-10T14:14:28.804079Z",
          "shell.execute_reply": "2025-06-10T14:14:28.800747Z"
        },
        "id": "3qMHDX93PeiF"
      },
      "outputs": [],
      "execution_count": null
    },
    {
      "cell_type": "markdown",
      "source": [
        "## Recommendations"
      ],
      "metadata": {
        "id": "vYo2YAjHPeiF"
      }
    },
    {
      "cell_type": "markdown",
      "source": [
        "1. Encourage movement throughout the day: Move users have a sedentary lifestyle with limited time. Bellabeat can introduce 'Move More' reminders, step challenges or guided movement breaks to promote an active routine.\n",
        "\n",
        "2. Personalize workout suggestions: Activity peaks at 10 AM and 3-6 PM, indicating natural workout time. Bellabeat can offer personalized workout plans and energy boosting excercises to help users make the most of these active hours.\n",
        "\n",
        "3. Improve sleep monitoring and recommendation: Most users have light sleep between 12 AM - 6 AM, with only few experiencing deep or REM sleep. Bellabeat can offer sleep improvement tips, bedtime routines and relaxation excercies to improve sleep quality.\n",
        "\n",
        "4. Weight management support: A large percentage of users are overweight and obsese. Bellabeat can integerate weight tracking features, meal planning tips and fitness challenges to help users maintain a healthy weight."
      ],
      "metadata": {
        "id": "mE7Up2z8PeiF"
      }
    }
  ]
}